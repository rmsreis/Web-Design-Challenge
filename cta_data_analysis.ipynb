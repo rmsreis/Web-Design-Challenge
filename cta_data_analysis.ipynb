{
 "cells": [
  {
   "cell_type": "code",
   "execution_count": 16,
   "metadata": {},
   "outputs": [],
   "source": [
    "# Dependencies\n",
    "import numpy as np\n",
    "import pandas as pd\n",
    "import matplotlib.pyplot as plt\n",
    "\n",
    "import requests\n",
    "from census import Census\n",
    "import gmaps"
   ]
  },
  {
   "cell_type": "code",
   "execution_count": 17,
   "metadata": {},
   "outputs": [],
   "source": [
    "import pandas as pd\n",
    "\n",
    "# data with number of passenger rides\n",
    "L_Rides = pd.read_csv('Resources/CTA-L-Monthly-Ridership.csv')\n",
    "\n",
    "#This is a list of stations with zipcode and location for plotting\n",
    "stop_List = pd.read_csv('Resources/CTA-List_of_L_Stops.csv')\n",
    "#stop_List"
   ]
  },
  {
   "cell_type": "code",
   "execution_count": 18,
   "metadata": {},
   "outputs": [],
   "source": [
    "#converting to datetime using pandas \n",
    "L_Rides['date_time'] = pd.to_datetime(L_Rides['month_beginning'])"
   ]
  },
  {
   "cell_type": "code",
   "execution_count": 19,
   "metadata": {},
   "outputs": [
    {
     "data": {
      "text/plain": [
       "Index(['STOP_ID', 'DIRECTION_ID', 'STOP_NAME', 'STATION_NAME',\n",
       "       'STATION_DESCRIPTIVE_NAME', 'MAP_ID', 'ADA', 'RED', 'BLUE', 'G', 'BRN',\n",
       "       'P', 'Pexp', 'Y', 'Pnk', 'O', 'Location', 'Historical Wards 2003-2015',\n",
       "       'Zip Codes', 'Community Areas', 'Census Tracts', 'Wards'],\n",
       "      dtype='object')"
      ]
     },
     "execution_count": 19,
     "metadata": {},
     "output_type": "execute_result"
    }
   ],
   "source": [
    "# Checking data\n",
    "stop_List.columns"
   ]
  },
  {
   "cell_type": "code",
   "execution_count": 20,
   "metadata": {},
   "outputs": [
    {
     "data": {
      "text/plain": [
       "0      (41.857908, -87.669147)\n",
       "1      (41.857908, -87.669147)\n",
       "2      (41.829353, -87.680622)\n",
       "3      (41.829353, -87.680622)\n",
       "4      (41.831677, -87.625826)\n",
       "                ...           \n",
       "295    (41.964273, -87.657588)\n",
       "296     (41.88322, -87.626189)\n",
       "297    (41.964273, -87.657588)\n",
       "298    (41.885269, -87.666969)\n",
       "299    (41.885269, -87.666969)\n",
       "Name: Location, Length: 300, dtype: object"
      ]
     },
     "execution_count": 20,
     "metadata": {},
     "output_type": "execute_result"
    }
   ],
   "source": [
    "stop_List['Location']"
   ]
  },
  {
   "cell_type": "code",
   "execution_count": 21,
   "metadata": {},
   "outputs": [],
   "source": [
    "#Splitting coordinates from stop list df\n",
    "new_Location = stop_List['Location'].str.split(\",\", n = 1, expand = True) "
   ]
  },
  {
   "cell_type": "code",
   "execution_count": 22,
   "metadata": {},
   "outputs": [
    {
     "name": "stdout",
     "output_type": "stream",
     "text": [
      "0      41.857908\n",
      "1      41.857908\n",
      "2      41.829353\n",
      "3      41.829353\n",
      "4      41.831677\n",
      "         ...    \n",
      "295    41.964273\n",
      "296     41.88322\n",
      "297    41.964273\n",
      "298    41.885269\n",
      "299    41.885269\n",
      "Name: 0, Length: 300, dtype: object 0      -87.669147\n",
      "1      -87.669147\n",
      "2      -87.680622\n",
      "3      -87.680622\n",
      "4      -87.625826\n",
      "          ...    \n",
      "295    -87.657588\n",
      "296    -87.626189\n",
      "297    -87.657588\n",
      "298    -87.666969\n",
      "299    -87.666969\n",
      "Name: 1, Length: 300, dtype: object\n"
     ]
    }
   ],
   "source": [
    "print(new_Location[0].str[1:], new_Location[1].str[1:11])"
   ]
  },
  {
   "cell_type": "code",
   "execution_count": 23,
   "metadata": {},
   "outputs": [],
   "source": [
    "# making separate lattitude column from new Location data frame \n",
    "stop_List[\"Latitude\"]= new_Location[0].str[1:] \n",
    "  \n",
    "# making separate Longitude column from new Location data frame \n",
    "stop_List[\"Longitude\"]= new_Location[1].str[1:11]"
   ]
  },
  {
   "cell_type": "code",
   "execution_count": 24,
   "metadata": {},
   "outputs": [
    {
     "data": {
      "text/plain": [
       "Index(['STOP_ID', 'DIRECTION_ID', 'STOP_NAME', 'STATION_NAME',\n",
       "       'STATION_DESCRIPTIVE_NAME', 'MAP_ID', 'ADA', 'RED', 'BLUE', 'G', 'BRN',\n",
       "       'P', 'Pexp', 'Y', 'Pnk', 'O', 'Location', 'Historical Wards 2003-2015',\n",
       "       'Zip Codes', 'Community Areas', 'Census Tracts', 'Wards', 'Latitude',\n",
       "       'Longitude'],\n",
       "      dtype='object')"
      ]
     },
     "execution_count": 24,
     "metadata": {},
     "output_type": "execute_result"
    }
   ],
   "source": [
    "stop_List.columns"
   ]
  },
  {
   "cell_type": "code",
   "execution_count": 26,
   "metadata": {},
   "outputs": [],
   "source": [
    "#render dataframe as html\n",
    "#stop_List_html = stop_List.to_html()\n",
    "\n",
    "#write html to file\n",
    "#stop_List_file = open(\"Resources/stop_list.html\", \"w\")\n",
    "#stop_List_file.write(stop_List_html)\n",
    "#stop_List_file.close()"
   ]
  },
  {
   "cell_type": "code",
   "execution_count": 25,
   "metadata": {},
   "outputs": [],
   "source": [
    "#L_Rides_html = L_Rides.to_html()\n",
    "\n",
    "#write html to file\n",
    "#L_Rides_file = open(\"Resources/L_Rides.html\", \"w\")\n",
    "#L_Rides_file.write(L_Rides_html)\n",
    "#L_Rides_file.close()"
   ]
  },
  {
   "cell_type": "code",
   "execution_count": 27,
   "metadata": {},
   "outputs": [],
   "source": [
    "# Using geopandas to find Nearest stations to my apt\n",
    "# My address is at 41.940330, -87.640446\n",
    "\n",
    "home_lat = 41.940330\n",
    "home_long = -87.640446"
   ]
  },
  {
   "cell_type": "code",
   "execution_count": 28,
   "metadata": {},
   "outputs": [
    {
     "ename": "ModuleNotFoundError",
     "evalue": "No module named 'shapely'",
     "output_type": "error",
     "traceback": [
      "\u001b[1;31m---------------------------------------------------------------------------\u001b[0m",
      "\u001b[1;31mModuleNotFoundError\u001b[0m                       Traceback (most recent call last)",
      "\u001b[1;32m<ipython-input-28-a8a86f3f3b10>\u001b[0m in \u001b[0;36m<module>\u001b[1;34m\u001b[0m\n\u001b[0;32m      3\u001b[0m \u001b[1;31m#!pip install geopandas\u001b[0m\u001b[1;33m\u001b[0m\u001b[1;33m\u001b[0m\u001b[1;33m\u001b[0m\u001b[0m\n\u001b[0;32m      4\u001b[0m \u001b[1;33m\u001b[0m\u001b[0m\n\u001b[1;32m----> 5\u001b[1;33m \u001b[1;32mfrom\u001b[0m \u001b[0mshapely\u001b[0m\u001b[1;33m.\u001b[0m\u001b[0mgeometry\u001b[0m \u001b[1;32mimport\u001b[0m \u001b[0mPoint\u001b[0m\u001b[1;33m,\u001b[0m \u001b[0mMultiPoint\u001b[0m\u001b[1;33m\u001b[0m\u001b[1;33m\u001b[0m\u001b[0m\n\u001b[0m\u001b[0;32m      6\u001b[0m \u001b[1;32mfrom\u001b[0m \u001b[0mshapely\u001b[0m\u001b[1;33m.\u001b[0m\u001b[0mops\u001b[0m \u001b[1;32mimport\u001b[0m \u001b[0mnearest_points\u001b[0m\u001b[1;33m\u001b[0m\u001b[1;33m\u001b[0m\u001b[0m\n\u001b[0;32m      7\u001b[0m \u001b[1;33m\u001b[0m\u001b[0m\n",
      "\u001b[1;31mModuleNotFoundError\u001b[0m: No module named 'shapely'"
     ]
    }
   ],
   "source": [
    "# from geopandas documentation and GeoPandas AutoGIS\n",
    "#!pip install shapely\n",
    "#!pip install geopandas\n",
    "\n",
    "from shapely.geometry import Point, MultiPoint\n",
    "from shapely.ops import nearest_points\n",
    "\n",
    "# define origing (in this case my address)\n",
    "orig = Point(home_lat, home_long)\n",
    "\n",
    "#Multipoint is the list of the location\n",
    "\n",
    "destinations = MultiPoint(stop_List['Location'])"
   ]
  },
  {
   "cell_type": "code",
   "execution_count": null,
   "metadata": {},
   "outputs": [],
   "source": []
  },
  {
   "cell_type": "code",
   "execution_count": null,
   "metadata": {},
   "outputs": [],
   "source": [
    "\n",
    "Fullerton_Rides_total = L_Rides[(L_Rides['stationame'] == 'Fullerton')]\n",
    "\n",
    "Fullerton_Rides_2019 = L_Rides[(L_Rides['stationame'] == 'Fullerton') &\n",
    "                       (L_Rides['date_time'] >= '01/01/2019') &\n",
    "                       (L_Rides['date_time'] < '06/30/2019')]"
   ]
  },
  {
   "cell_type": "code",
   "execution_count": null,
   "metadata": {},
   "outputs": [],
   "source": []
  },
  {
   "cell_type": "code",
   "execution_count": 29,
   "metadata": {},
   "outputs": [],
   "source": [
    "Station_Group = L_Rides.groupby(['stationame'])\n",
    "#Station_Group.groups"
   ]
  },
  {
   "cell_type": "code",
   "execution_count": 30,
   "metadata": {},
   "outputs": [
    {
     "data": {
      "text/plain": [
       "stationame\n",
       "18th                    8601327\n",
       "35-Bronzeville-IIT     12274103\n",
       "35th/Archer            15275681\n",
       "43rd                    5633804\n",
       "47th-Dan Ryan          17599600\n",
       "                         ...   \n",
       "Western-Cermak          5369566\n",
       "Western-Forest Park     8266947\n",
       "Western-Orange         19636487\n",
       "Western/Milwaukee      25044551\n",
       "Wilson                 33472920\n",
       "Name: monthtotal, Length: 148, dtype: int64"
      ]
     },
     "execution_count": 30,
     "metadata": {},
     "output_type": "execute_result"
    }
   ],
   "source": [
    "Station_Group['monthtotal'].sum()"
   ]
  },
  {
   "cell_type": "code",
   "execution_count": 32,
   "metadata": {},
   "outputs": [
    {
     "data": {
      "text/html": [
       "<div>\n",
       "<style scoped>\n",
       "    .dataframe tbody tr th:only-of-type {\n",
       "        vertical-align: middle;\n",
       "    }\n",
       "\n",
       "    .dataframe tbody tr th {\n",
       "        vertical-align: top;\n",
       "    }\n",
       "\n",
       "    .dataframe thead th {\n",
       "        text-align: right;\n",
       "    }\n",
       "</style>\n",
       "<table border=\"1\" class=\"dataframe\">\n",
       "  <thead>\n",
       "    <tr style=\"text-align: right;\">\n",
       "      <th></th>\n",
       "      <th>monthtotal</th>\n",
       "    </tr>\n",
       "    <tr>\n",
       "      <th>stationame</th>\n",
       "      <th></th>\n",
       "    </tr>\n",
       "  </thead>\n",
       "  <tbody>\n",
       "    <tr>\n",
       "      <th>Clark/Lake</th>\n",
       "      <td>94794425</td>\n",
       "    </tr>\n",
       "    <tr>\n",
       "      <th>Lake/State</th>\n",
       "      <td>94243224</td>\n",
       "    </tr>\n",
       "    <tr>\n",
       "      <th>Chicago/State</th>\n",
       "      <td>87346160</td>\n",
       "    </tr>\n",
       "    <tr>\n",
       "      <th>95th/Dan Ryan</th>\n",
       "      <td>70730114</td>\n",
       "    </tr>\n",
       "    <tr>\n",
       "      <th>Belmont-North Main</th>\n",
       "      <td>70676134</td>\n",
       "    </tr>\n",
       "    <tr>\n",
       "      <th>Fullerton</th>\n",
       "      <td>69351169</td>\n",
       "    </tr>\n",
       "    <tr>\n",
       "      <th>Grand/State</th>\n",
       "      <td>64770299</td>\n",
       "    </tr>\n",
       "    <tr>\n",
       "      <th>O'Hare Airport</th>\n",
       "      <td>62189240</td>\n",
       "    </tr>\n",
       "    <tr>\n",
       "      <th>Jackson/State</th>\n",
       "      <td>59450701</td>\n",
       "    </tr>\n",
       "    <tr>\n",
       "      <th>Roosevelt</th>\n",
       "      <td>57612873</td>\n",
       "    </tr>\n",
       "  </tbody>\n",
       "</table>\n",
       "</div>"
      ],
      "text/plain": [
       "                    monthtotal\n",
       "stationame                    \n",
       "Clark/Lake            94794425\n",
       "Lake/State            94243224\n",
       "Chicago/State         87346160\n",
       "95th/Dan Ryan         70730114\n",
       "Belmont-North Main    70676134\n",
       "Fullerton             69351169\n",
       "Grand/State           64770299\n",
       "O'Hare Airport        62189240\n",
       "Jackson/State         59450701\n",
       "Roosevelt             57612873"
      ]
     },
     "execution_count": 32,
     "metadata": {},
     "output_type": "execute_result"
    }
   ],
   "source": [
    "Station_Totals = pd.DataFrame(Station_Group['monthtotal'].sum())\n",
    "Station_Totals.sort_values(ascending=False,by='monthtotal',inplace=True)\n",
    "Station_Totals.head(10)"
   ]
  },
  {
   "cell_type": "code",
   "execution_count": 50,
   "metadata": {},
   "outputs": [
    {
     "data": {
      "image/png": "[encoded data removed]",
      "text/plain": [
       "<Figure size 432x576 with 1 Axes>"
      ]
     },
     "metadata": {
      "needs_background": "light"
     },
     "output_type": "display_data"
    }
   ],
   "source": [
    "#PLotting of top 20 more busy CTA stations\n",
    "\n",
    "Station_Totals.head(20).plot(kind='barh',\n",
    "                             figsize = (6,8),\n",
    "                             title = \"Top 20 Stations - Total Numbers of Riders\", \n",
    "                             color = 'blue', alpha = 0.8,\n",
    "                             fontsize = 16,\n",
    "                             legend = False,\n",
    "                             rot=0)\n",
    "plt.show()"
   ]
  },
  {
   "cell_type": "code",
   "execution_count": null,
   "metadata": {},
   "outputs": [],
   "source": [
    "#PLotting of top 20 more busy CTA stations\n",
    "\n",
    "Station_Totals.head(20).plot(kind='barh',title = \"Top 20 Stations\", color = 'green', alpha = 0.5, rot=0)"
   ]
  },
  {
   "cell_type": "code",
   "execution_count": null,
   "metadata": {},
   "outputs": [],
   "source": [
    "Station_Totals.tail(20).plot(kind='barh',title = \"Bottom 20 Stations\", color = 'green', alpha = 0.5, rot=0)"
   ]
  },
  {
   "cell_type": "code",
   "execution_count": null,
   "metadata": {},
   "outputs": [],
   "source": [
    "ax = plt.gca()\n",
    "\n",
    "df.plot(kind='line',x='name',y='num_children',ax=ax)\n",
    "df.plot(kind='line',x='name',y='num_pets', color='red', ax=ax)\n",
    "\n",
    "plt.show()"
   ]
  }
 ],
 "metadata": {
  "kernelspec": {
   "display_name": "Python 3",
   "language": "python",
   "name": "python3"
  },
  "language_info": {
   "codemirror_mode": {
    "name": "ipython",
    "version": 3
   },
   "file_extension": ".py",
   "mimetype": "text/x-python",
   "name": "python",
   "nbconvert_exporter": "python",
   "pygments_lexer": "ipython3",
   "version": "3.7.4"
  }
 },
 "nbformat": 4,
 "nbformat_minor": 2
}
